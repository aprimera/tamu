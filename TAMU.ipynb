{
  "nbformat": 4,
  "nbformat_minor": 0,
  "metadata": {
    "colab": {
      "name": "TAMU.ipynb",
      "provenance": [],
      "authorship_tag": "ABX9TyN8iQVINTsqa5R39/EEMFFI",
      "include_colab_link": true
    },
    "kernelspec": {
      "name": "python3",
      "display_name": "Python 3"
    },
    "language_info": {
      "name": "python"
    }
  },
  "cells": [
    {
      "cell_type": "markdown",
      "metadata": {
        "id": "view-in-github",
        "colab_type": "text"
      },
      "source": [
        "<a href=\"https://colab.research.google.com/github/aprimera/tamu/blob/main/TAMU.ipynb\" target=\"_parent\"><img src=\"https://colab.research.google.com/assets/colab-badge.svg\" alt=\"Open In Colab\"/></a>"
      ]
    },
    {
      "cell_type": "markdown",
      "metadata": {
        "id": "WOrsTsLGGC3h"
      },
      "source": [
        "# TAMU Demo (Example 1)"
      ]
    },
    {
      "cell_type": "code",
      "metadata": {
        "id": "Jmyh7bfLK19f"
      },
      "source": [
        "# import libraries\n",
        "import matplotlib.pyplot as plt\n",
        "import numpy as np\n",
        "plt.style.use('seaborn-darkgrid')\n",
        "from scipy.optimize import curve_fit"
      ],
      "execution_count": 44,
      "outputs": []
    },
    {
      "cell_type": "code",
      "metadata": {
        "colab": {
          "base_uri": "https://localhost:8080/"
        },
        "id": "ee7rpc7qMiMZ",
        "outputId": "bb0ed8a7-6dfa-40a7-a15b-e1272632326b"
      },
      "source": [
        "plt.style.available"
      ],
      "execution_count": 39,
      "outputs": [
        {
          "output_type": "execute_result",
          "data": {
            "text/plain": [
              "['Solarize_Light2',\n",
              " '_classic_test_patch',\n",
              " 'bmh',\n",
              " 'classic',\n",
              " 'dark_background',\n",
              " 'fast',\n",
              " 'fivethirtyeight',\n",
              " 'ggplot',\n",
              " 'grayscale',\n",
              " 'seaborn',\n",
              " 'seaborn-bright',\n",
              " 'seaborn-colorblind',\n",
              " 'seaborn-dark',\n",
              " 'seaborn-dark-palette',\n",
              " 'seaborn-darkgrid',\n",
              " 'seaborn-deep',\n",
              " 'seaborn-muted',\n",
              " 'seaborn-notebook',\n",
              " 'seaborn-paper',\n",
              " 'seaborn-pastel',\n",
              " 'seaborn-poster',\n",
              " 'seaborn-talk',\n",
              " 'seaborn-ticks',\n",
              " 'seaborn-white',\n",
              " 'seaborn-whitegrid',\n",
              " 'tableau-colorblind10']"
            ]
          },
          "metadata": {
            "tags": []
          },
          "execution_count": 39
        }
      ]
    },
    {
      "cell_type": "code",
      "metadata": {
        "colab": {
          "base_uri": "https://localhost:8080/"
        },
        "id": "anIltHbeF23R",
        "outputId": "e62ed927-1a47-4fab-dffd-89b26bc65974"
      },
      "source": [
        "2+1"
      ],
      "execution_count": 3,
      "outputs": [
        {
          "output_type": "execute_result",
          "data": {
            "text/plain": [
              "3"
            ]
          },
          "metadata": {
            "tags": []
          },
          "execution_count": 3
        }
      ]
    },
    {
      "cell_type": "code",
      "metadata": {
        "colab": {
          "base_uri": "https://localhost:8080/"
        },
        "id": "CmR0zbkPF3HY",
        "outputId": "2ed4670d-5829-4de8-a26b-166be3463372"
      },
      "source": [
        "a = 1\n",
        "b = 23\n",
        "c = a+b\n",
        "c"
      ],
      "execution_count": 7,
      "outputs": [
        {
          "output_type": "execute_result",
          "data": {
            "text/plain": [
              "24"
            ]
          },
          "metadata": {
            "tags": []
          },
          "execution_count": 7
        }
      ]
    },
    {
      "cell_type": "code",
      "metadata": {
        "id": "eQo4JTFZHBnX"
      },
      "source": [
        "d = 3.1\n",
        "e = \"3.1\""
      ],
      "execution_count": 11,
      "outputs": []
    },
    {
      "cell_type": "code",
      "metadata": {
        "id": "KhvsBjWoHgtf"
      },
      "source": [
        "# VBA example \n",
        "# Dim a As Integer\n",
        "# Dim b As String"
      ],
      "execution_count": null,
      "outputs": []
    },
    {
      "cell_type": "code",
      "metadata": {
        "colab": {
          "base_uri": "https://localhost:8080/"
        },
        "id": "aZfwdL93HxON",
        "outputId": "d294b07e-b189-4f89-de17-2f521557a8b4"
      },
      "source": [
        "a+d"
      ],
      "execution_count": 15,
      "outputs": [
        {
          "output_type": "execute_result",
          "data": {
            "text/plain": [
              "4.1"
            ]
          },
          "metadata": {
            "tags": []
          },
          "execution_count": 15
        }
      ]
    },
    {
      "cell_type": "code",
      "metadata": {
        "colab": {
          "base_uri": "https://localhost:8080/",
          "height": 167
        },
        "id": "ZiKvh_SfHRNw",
        "outputId": "8c2de3ac-b4ad-402f-bf0f-4369b6d5ed65"
      },
      "source": [
        "d+e # This was on purpose"
      ],
      "execution_count": 14,
      "outputs": [
        {
          "output_type": "error",
          "ename": "TypeError",
          "evalue": "ignored",
          "traceback": [
            "\u001b[0;31m---------------------------------------------------------------------------\u001b[0m",
            "\u001b[0;31mTypeError\u001b[0m                                 Traceback (most recent call last)",
            "\u001b[0;32m<ipython-input-14-727e2513ef76>\u001b[0m in \u001b[0;36m<module>\u001b[0;34m()\u001b[0m\n\u001b[0;32m----> 1\u001b[0;31m \u001b[0md\u001b[0m\u001b[0;34m+\u001b[0m\u001b[0me\u001b[0m \u001b[0;31m# This was on purpose\u001b[0m\u001b[0;34m\u001b[0m\u001b[0;34m\u001b[0m\u001b[0m\n\u001b[0m",
            "\u001b[0;31mTypeError\u001b[0m: unsupported operand type(s) for +: 'float' and 'str'"
          ]
        }
      ]
    },
    {
      "cell_type": "markdown",
      "metadata": {
        "id": "Z7syky2AGkJ8"
      },
      "source": [
        "## This is the the raw data from production well in the world, with monthly frequency"
      ]
    },
    {
      "cell_type": "code",
      "metadata": {
        "id": "ug2ISM9KF3KT"
      },
      "source": [
        "times = [0.01, 30, 61, 91, 122, 153, 183, 214, 244, 275, 306, 334, 365, 395, 426, 456, 487, 518, 548, 579, 609, 640, 671, 699, 730, 760, 791]\n",
        "\n",
        "well_rate = [248.956137704918, 434.084242622951, 383.696186885246, 400.761678688525, 322.644003278689, \n",
        "             225.643954098361, 208.289740983607, 168.054363934426, 145.511416393443, 150.106209836066, \n",
        "             133.21188852459, 112.300216393443, 114.898708196721, 103.527213114754, 137.146747540984, \n",
        "             204.845708196721, 186.109757377049, 153.191403278689, 156.666370491803, 145.631029508197, \n",
        "             142.323108196721, 144.104931147541, 130.759819672131, 118.414921311475, 129.520380327869, \n",
        "             119.386262295082, 120.372039344262]\n"
      ],
      "execution_count": 23,
      "outputs": []
    },
    {
      "cell_type": "code",
      "metadata": {
        "id": "1H8fzCktF3NT"
      },
      "source": [
        "# Tuples\n",
        "mytuple = (1.2, 23.5, 35)\n",
        "# List\n",
        "mylist = [5, \"Keyla\", mytuple]\n",
        "mydictionary = {\n",
        "    'Wellx': 'Permian',\n",
        "    'Welly': 'Eagle Ford'\n",
        "}"
      ],
      "execution_count": 21,
      "outputs": []
    },
    {
      "cell_type": "code",
      "metadata": {
        "colab": {
          "base_uri": "https://localhost:8080/"
        },
        "id": "jXfd41jxI7Au",
        "outputId": "4f7d5025-1321-4cc9-ff4c-ee645407354d"
      },
      "source": [
        "type(times)"
      ],
      "execution_count": 24,
      "outputs": [
        {
          "output_type": "execute_result",
          "data": {
            "text/plain": [
              "list"
            ]
          },
          "metadata": {
            "tags": []
          },
          "execution_count": 24
        }
      ]
    },
    {
      "cell_type": "code",
      "metadata": {
        "colab": {
          "base_uri": "https://localhost:8080/"
        },
        "id": "3MWMCWP9JFLb",
        "outputId": "2404d674-05e8-4048-b25e-bf872722bc93"
      },
      "source": [
        "# Let's talk about lists\n",
        "print(well_rate[0]) # First item\n"
      ],
      "execution_count": 26,
      "outputs": [
        {
          "output_type": "stream",
          "text": [
            "248.956137704918\n"
          ],
          "name": "stdout"
        }
      ]
    },
    {
      "cell_type": "code",
      "metadata": {
        "colab": {
          "base_uri": "https://localhost:8080/"
        },
        "id": "_AlSdXKTJmCd",
        "outputId": "849def83-83c4-419e-bdc2-3fad2e9ad3cc"
      },
      "source": [
        "# Let's print the last item the hard way\n",
        "#len(well_rate)\n",
        "print(well_rate[len(well_rate)-1]) # Last item"
      ],
      "execution_count": 30,
      "outputs": [
        {
          "output_type": "stream",
          "text": [
            "120.372039344262\n"
          ],
          "name": "stdout"
        }
      ]
    },
    {
      "cell_type": "code",
      "metadata": {
        "colab": {
          "base_uri": "https://localhost:8080/"
        },
        "id": "yNQ1_pkEJ-Cg",
        "outputId": "0a230f21-8c94-478a-d512-be39338ed3b0"
      },
      "source": [
        "# Let's print the last item the easy way\n",
        "#len(well_rate)\n",
        "print(well_rate[-1]) # Last item"
      ],
      "execution_count": 31,
      "outputs": [
        {
          "output_type": "stream",
          "text": [
            "120.372039344262\n"
          ],
          "name": "stdout"
        }
      ]
    },
    {
      "cell_type": "code",
      "metadata": {
        "colab": {
          "base_uri": "https://localhost:8080/"
        },
        "id": "0wkgeqVNF3RV",
        "outputId": "8a23cd5e-0c38-4e05-ce20-ef799909d0ed"
      },
      "source": [
        "whos"
      ],
      "execution_count": 22,
      "outputs": [
        {
          "output_type": "stream",
          "text": [
            "Variable       Type     Data/Info\n",
            "---------------------------------\n",
            "a              int      1\n",
            "b              int      23\n",
            "c              int      24\n",
            "d              float    3.1\n",
            "e              str      3.1\n",
            "mydictionary   dict     n=2\n",
            "mylist         list     n=3\n",
            "mytuple        tuple    n=3\n",
            "times          list     n=27\n",
            "well_rate      list     n=27\n"
          ],
          "name": "stdout"
        }
      ]
    },
    {
      "cell_type": "code",
      "metadata": {
        "colab": {
          "base_uri": "https://localhost:8080/",
          "height": 526
        },
        "id": "o3LSYj4wGcj3",
        "outputId": "dcdedd12-dd31-4ef9-b7f4-2874e9313f71"
      },
      "source": [
        "# Let's do our first plot\n",
        "plt.figure(figsize=(15,8))\n",
        "plt.scatter(times, well_rate, color='red')\n",
        "plt.xlabel('Time (Days)')\n",
        "plt.title('WellX')"
      ],
      "execution_count": 42,
      "outputs": [
        {
          "output_type": "execute_result",
          "data": {
            "text/plain": [
              "Text(0.5, 1.0, 'WellX')"
            ]
          },
          "metadata": {
            "tags": []
          },
          "execution_count": 42
        },
        {
          "output_type": "display_data",
          "data": {
            "image/png": "[encoded data removed]",
            "text/plain": [
              "<Figure size 1080x576 with 1 Axes>"
            ]
          },
          "metadata": {
            "tags": []
          }
        }
      ]
    },
    {
      "cell_type": "markdown",
      "metadata": {
        "id": "nn6lv6kNNIS-"
      },
      "source": [
        "### Duong equation (unconventional DCA option)\n",
        "$$ q=q_it^{-m}\\exp ^{\\frac{a}{1-m}(t^{1-m}-1)}$$"
      ]
    },
    {
      "cell_type": "code",
      "metadata": {
        "id": "LAX2bFI-OUjL"
      },
      "source": [
        ""
      ],
      "execution_count": null,
      "outputs": []
    },
    {
      "cell_type": "code",
      "metadata": {
        "colab": {
          "base_uri": "https://localhost:8080/"
        },
        "id": "pDTAdNO3LxMD",
        "outputId": "01b21dfa-56c3-4a51-b8a0-5bd63a293207"
      },
      "source": [
        "time = 50\n",
        "a = 1.2\n",
        "m = 1.5\n",
        "initial_rate = 5000\n",
        "term1 = (a/(1-m))*(time**(1-m)-1)\n",
        "rate = initial_rate*time**-m*(np.exp(term1))\n",
        "rate"
      ],
      "execution_count": 46,
      "outputs": [
        {
          "output_type": "execute_result",
          "data": {
            "text/plain": [
              "111.02411481522728"
            ]
          },
          "metadata": {
            "tags": []
          },
          "execution_count": 46
        }
      ]
    },
    {
      "cell_type": "code",
      "metadata": {
        "colab": {
          "base_uri": "https://localhost:8080/",
          "height": 238
        },
        "id": "4fqK-CIJN1Tc",
        "outputId": "f1294859-313a-4c63-f78c-97203d1b17db"
      },
      "source": [
        "a = 1.2\n",
        "m = 1.5\n",
        "initial_rate = 5000\n",
        "term1 = (a/(1-m))*(times**(1-m)-1)\n",
        "rate = initial_rate*times**-m*(np.exp(term1))\n",
        "rate"
      ],
      "execution_count": 47,
      "outputs": [
        {
          "output_type": "error",
          "ename": "TypeError",
          "evalue": "ignored",
          "traceback": [
            "\u001b[0;31m---------------------------------------------------------------------------\u001b[0m",
            "\u001b[0;31mTypeError\u001b[0m                                 Traceback (most recent call last)",
            "\u001b[0;32m<ipython-input-47-251a3d813144>\u001b[0m in \u001b[0;36m<module>\u001b[0;34m()\u001b[0m\n\u001b[1;32m      2\u001b[0m \u001b[0mm\u001b[0m \u001b[0;34m=\u001b[0m \u001b[0;36m1.5\u001b[0m\u001b[0;34m\u001b[0m\u001b[0;34m\u001b[0m\u001b[0m\n\u001b[1;32m      3\u001b[0m \u001b[0minitial_rate\u001b[0m \u001b[0;34m=\u001b[0m \u001b[0;36m5000\u001b[0m\u001b[0;34m\u001b[0m\u001b[0;34m\u001b[0m\u001b[0m\n\u001b[0;32m----> 4\u001b[0;31m \u001b[0mterm1\u001b[0m \u001b[0;34m=\u001b[0m \u001b[0;34m(\u001b[0m\u001b[0ma\u001b[0m\u001b[0;34m/\u001b[0m\u001b[0;34m(\u001b[0m\u001b[0;36m1\u001b[0m\u001b[0;34m-\u001b[0m\u001b[0mm\u001b[0m\u001b[0;34m)\u001b[0m\u001b[0;34m)\u001b[0m\u001b[0;34m*\u001b[0m\u001b[0;34m(\u001b[0m\u001b[0mtimes\u001b[0m\u001b[0;34m**\u001b[0m\u001b[0;34m(\u001b[0m\u001b[0;36m1\u001b[0m\u001b[0;34m-\u001b[0m\u001b[0mm\u001b[0m\u001b[0;34m)\u001b[0m\u001b[0;34m-\u001b[0m\u001b[0;36m1\u001b[0m\u001b[0;34m)\u001b[0m\u001b[0;34m\u001b[0m\u001b[0;34m\u001b[0m\u001b[0m\n\u001b[0m\u001b[1;32m      5\u001b[0m \u001b[0mrate\u001b[0m \u001b[0;34m=\u001b[0m \u001b[0minitial_rate\u001b[0m\u001b[0;34m*\u001b[0m\u001b[0mtimes\u001b[0m\u001b[0;34m**\u001b[0m\u001b[0;34m-\u001b[0m\u001b[0mm\u001b[0m\u001b[0;34m*\u001b[0m\u001b[0;34m(\u001b[0m\u001b[0mnp\u001b[0m\u001b[0;34m.\u001b[0m\u001b[0mexp\u001b[0m\u001b[0;34m(\u001b[0m\u001b[0mterm1\u001b[0m\u001b[0;34m)\u001b[0m\u001b[0;34m)\u001b[0m\u001b[0;34m\u001b[0m\u001b[0;34m\u001b[0m\u001b[0m\n\u001b[1;32m      6\u001b[0m \u001b[0mrate\u001b[0m\u001b[0;34m\u001b[0m\u001b[0;34m\u001b[0m\u001b[0m\n",
            "\u001b[0;31mTypeError\u001b[0m: unsupported operand type(s) for ** or pow(): 'list' and 'float'"
          ]
        }
      ]
    },
    {
      "cell_type": "code",
      "metadata": {
        "colab": {
          "base_uri": "https://localhost:8080/",
          "height": 167
        },
        "id": "eJ9AtPpAOyJM",
        "outputId": "f66608cc-a467-4b51-fe21-5e09a9ca247e"
      },
      "source": [
        "times**(1-m)"
      ],
      "execution_count": 48,
      "outputs": [
        {
          "output_type": "error",
          "ename": "TypeError",
          "evalue": "ignored",
          "traceback": [
            "\u001b[0;31m---------------------------------------------------------------------------\u001b[0m",
            "\u001b[0;31mTypeError\u001b[0m                                 Traceback (most recent call last)",
            "\u001b[0;32m<ipython-input-48-77e5ebaea4f0>\u001b[0m in \u001b[0;36m<module>\u001b[0;34m()\u001b[0m\n\u001b[0;32m----> 1\u001b[0;31m \u001b[0mtimes\u001b[0m\u001b[0;34m**\u001b[0m\u001b[0;34m(\u001b[0m\u001b[0;36m1\u001b[0m\u001b[0;34m-\u001b[0m\u001b[0mm\u001b[0m\u001b[0;34m)\u001b[0m\u001b[0;34m\u001b[0m\u001b[0;34m\u001b[0m\u001b[0m\n\u001b[0m",
            "\u001b[0;31mTypeError\u001b[0m: unsupported operand type(s) for ** or pow(): 'list' and 'float'"
          ]
        }
      ]
    },
    {
      "cell_type": "code",
      "metadata": {
        "colab": {
          "base_uri": "https://localhost:8080/"
        },
        "id": "TDdjGjdqPRLK",
        "outputId": "fa6640a0-a8ad-4215-ed99-111cd01c8de4"
      },
      "source": [
        "#Painful way to solve the issue\n",
        "new_q = []\n",
        "for i in range(len(times)):\n",
        "  new_q.append(times[i]**(1-m))\n",
        "type(new_q)\n"
      ],
      "execution_count": 53,
      "outputs": [
        {
          "output_type": "execute_result",
          "data": {
            "text/plain": [
              "list"
            ]
          },
          "metadata": {
            "tags": []
          },
          "execution_count": 53
        }
      ]
    },
    {
      "cell_type": "code",
      "metadata": {
        "colab": {
          "base_uri": "https://localhost:8080/"
        },
        "id": "Kac2yy7RQFOs",
        "outputId": "579a04c5-f50d-41d3-8365-51a85cb00c2b"
      },
      "source": [
        "2*new_q"
      ],
      "execution_count": 56,
      "outputs": [
        {
          "output_type": "execute_result",
          "data": {
            "text/plain": [
              "[10.0,\n",
              " 0.18257418583505536,\n",
              " 0.12803687993289598,\n",
              " 0.10482848367219183,\n",
              " 0.09053574604251853,\n",
              " 0.08084520834544433,\n",
              " 0.07392212709545729,\n",
              " 0.06835859270246633,\n",
              " 0.06401843996644799,\n",
              " 0.06030226891555272,\n",
              " 0.05716619504750295,\n",
              " 0.05471756551645828,\n",
              " 0.05234239225902137,\n",
              " 0.05031546054266276,\n",
              " 0.048450158311150925,\n",
              " 0.0468292905790847,\n",
              " 0.04531432544294438,\n",
              " 0.04393747751637468,\n",
              " 0.04271788288583805,\n",
              " 0.04155858174616914,\n",
              " 0.04052204492365539,\n",
              " 0.03952847075210474,\n",
              " 0.038604571824109146,\n",
              " 0.03782347372361169,\n",
              " 0.037011660509880265,\n",
              " 0.03627381250550058,\n",
              " 0.035555906726738896,\n",
              " 10.0,\n",
              " 0.18257418583505536,\n",
              " 0.12803687993289598,\n",
              " 0.10482848367219183,\n",
              " 0.09053574604251853,\n",
              " 0.08084520834544433,\n",
              " 0.07392212709545729,\n",
              " 0.06835859270246633,\n",
              " 0.06401843996644799,\n",
              " 0.06030226891555272,\n",
              " 0.05716619504750295,\n",
              " 0.05471756551645828,\n",
              " 0.05234239225902137,\n",
              " 0.05031546054266276,\n",
              " 0.048450158311150925,\n",
              " 0.0468292905790847,\n",
              " 0.04531432544294438,\n",
              " 0.04393747751637468,\n",
              " 0.04271788288583805,\n",
              " 0.04155858174616914,\n",
              " 0.04052204492365539,\n",
              " 0.03952847075210474,\n",
              " 0.038604571824109146,\n",
              " 0.03782347372361169,\n",
              " 0.037011660509880265,\n",
              " 0.03627381250550058,\n",
              " 0.035555906726738896]"
            ]
          },
          "metadata": {
            "tags": []
          },
          "execution_count": 56
        }
      ]
    },
    {
      "cell_type": "code",
      "metadata": {
        "colab": {
          "base_uri": "https://localhost:8080/"
        },
        "id": "XChBtLAKO77i",
        "outputId": "4fbcde86-81a9-4a86-c3e9-27d69c1acf8b"
      },
      "source": [
        "# Solving the issue above with Numpy\n",
        "new_q2 = np.power(times, (1-m))\n",
        "type(new_q2)"
      ],
      "execution_count": 55,
      "outputs": [
        {
          "output_type": "execute_result",
          "data": {
            "text/plain": [
              "numpy.ndarray"
            ]
          },
          "metadata": {
            "tags": []
          },
          "execution_count": 55
        }
      ]
    },
    {
      "cell_type": "code",
      "metadata": {
        "colab": {
          "base_uri": "https://localhost:8080/"
        },
        "id": "ya5SyMzaPLRM",
        "outputId": "d95a0c3f-a63b-4932-b074-5ae54a693e2b"
      },
      "source": [
        "2*new_q2"
      ],
      "execution_count": 57,
      "outputs": [
        {
          "output_type": "execute_result",
          "data": {
            "text/plain": [
              "array([20.        ,  0.36514837,  0.25607376,  0.20965697,  0.18107149,\n",
              "        0.16169042,  0.14784425,  0.13671719,  0.12803688,  0.12060454,\n",
              "        0.11433239,  0.10943513,  0.10468478,  0.10063092,  0.09690032,\n",
              "        0.09365858,  0.09062865,  0.08787496,  0.08543577,  0.08311716,\n",
              "        0.08104409,  0.07905694,  0.07720914,  0.07564695,  0.07402332,\n",
              "        0.07254763,  0.07111181])"
            ]
          },
          "metadata": {
            "tags": []
          },
          "execution_count": 57
        }
      ]
    },
    {
      "cell_type": "code",
      "metadata": {
        "id": "vM_TMQRnQTSr"
      },
      "source": [
        "# Let's define a function\n",
        "def xname():\n",
        "  internal_a = 1\n",
        "  return internal_a"
      ],
      "execution_count": 61,
      "outputs": []
    },
    {
      "cell_type": "code",
      "metadata": {
        "colab": {
          "base_uri": "https://localhost:8080/"
        },
        "id": "f2OtcSr8QzyL",
        "outputId": "584e80a1-7544-4fc9-91be-a0d4e9b31992"
      },
      "source": [
        "xname()"
      ],
      "execution_count": 62,
      "outputs": [
        {
          "output_type": "execute_result",
          "data": {
            "text/plain": [
              "1"
            ]
          },
          "metadata": {
            "tags": []
          },
          "execution_count": 62
        }
      ]
    },
    {
      "cell_type": "code",
      "metadata": {
        "id": "RW0yH1v2Q1tL"
      },
      "source": [
        "def xname2(b):\n",
        "  internal_a = 1 + b\n",
        "  return internal_a"
      ],
      "execution_count": 63,
      "outputs": []
    },
    {
      "cell_type": "code",
      "metadata": {
        "colab": {
          "base_uri": "https://localhost:8080/"
        },
        "id": "ghMuPO2TQ9-F",
        "outputId": "e2b8419c-7cc8-4dc4-e27b-d6c185bc63a3"
      },
      "source": [
        "whos"
      ],
      "execution_count": 64,
      "outputs": [
        {
          "output_type": "stream",
          "text": [
            "Variable       Type        Data/Info\n",
            "------------------------------------\n",
            "a              float       1.2\n",
            "b              int         23\n",
            "c              int         24\n",
            "d              float       3.1\n",
            "e              str         3.1\n",
            "i              int         26\n",
            "initial_rate   int         5000\n",
            "m              float       1.5\n",
            "matplotlib     module      <module 'matplotlib' from<...>/matplotlib/__init__.py'>\n",
            "mydictionary   dict        n=2\n",
            "mylist         list        n=3\n",
            "mytuple        tuple       n=3\n",
            "new_q          list        n=27\n",
            "new_q2         ndarray     27: 27 elems, type `float64`, 216 bytes\n",
            "new_qw         list        n=54\n",
            "np             module      <module 'numpy' from '/us<...>kages/numpy/__init__.py'>\n",
            "plt            module      <module 'matplotlib.pyplo<...>es/matplotlib/pyplot.py'>\n",
            "rate           float64     111.02411481522728\n",
            "term1          float       2.0605887450304574\n",
            "time           int         50\n",
            "times          list        n=27\n",
            "well_rate      list        n=27\n",
            "xname          function    <function xname at 0x7f867eb5c8c0>\n",
            "xname2         function    <function xname2 at 0x7f867eb5cef0>\n"
          ],
          "name": "stdout"
        }
      ]
    },
    {
      "cell_type": "code",
      "metadata": {
        "id": "3yEBXIZuREft"
      },
      "source": [
        "def duong(internal_time, int_m, int_a, initial_rate):\n",
        "  term0 = np.power(internal_time,(1-m))\n",
        "  term1 = (a/(1-m))*(term0-1)\n",
        "  term2 =(np.exp(term1))\n",
        "  myrates = initial_rate*np.power(internal_time,-m)*term2\n",
        "  return myrates"
      ],
      "execution_count": 67,
      "outputs": []
    },
    {
      "cell_type": "code",
      "metadata": {
        "colab": {
          "base_uri": "https://localhost:8080/"
        },
        "id": "SDAL1yGySRjq",
        "outputId": "e47b151a-b341-4c42-f196-3b3a59bee739"
      },
      "source": [
        "q_new3 = duong(times, 1.5, 1.5, 5000)\n",
        "q_new3"
      ],
      "execution_count": 72,
      "outputs": [
        {
          "output_type": "execute_result",
          "data": {
            "text/plain": [
              "array([2.08069870e-03, 2.16419591e+02, 8.50801611e+01, 4.93686482e+01,\n",
              "       3.29132672e+01, 2.39868991e+01, 1.86444937e+01, 1.49418880e+01,\n",
              "       1.24012416e+01, 1.04574129e+01, 8.97655942e+00, 7.91816546e+00,\n",
              "       6.97076810e+00, 6.22209980e+00, 5.58036280e+00, 5.05846805e+00,\n",
              "       4.59993708e+00, 4.20712864e+00, 3.87775874e+00, 3.58048719e+00,\n",
              "       3.32747208e+00, 3.09603604e+00, 2.89038154e+00, 2.72356243e+00,\n",
              "       2.55690720e+00, 2.41128160e+00, 2.27484533e+00])"
            ]
          },
          "metadata": {
            "tags": []
          },
          "execution_count": 72
        }
      ]
    },
    {
      "cell_type": "code",
      "metadata": {
        "colab": {
          "base_uri": "https://localhost:8080/",
          "height": 526
        },
        "id": "MB2MyfvFSiBw",
        "outputId": "bde843ea-ac8b-4cee-8827-8c1ade12a6c5"
      },
      "source": [
        "plt.figure(figsize=(15,8))\n",
        "plt.scatter(times, well_rate, color='red')\n",
        "plt.xlabel('Time (Days)')\n",
        "plt.title('WellX')\n",
        "q_new4 = duong(times, 1.5, 1.2, 6000)\n",
        "plt.plot(times, q_new4, color='blue', label='My First Duong guess')"
      ],
      "execution_count": 76,
      "outputs": [
        {
          "output_type": "execute_result",
          "data": {
            "text/plain": [
              "[<matplotlib.lines.Line2D at 0x7f867e8fb490>]"
            ]
          },
          "metadata": {
            "tags": []
          },
          "execution_count": 76
        },
        {
          "output_type": "display_data",
          "data": {
            "image/png": "[encoded data removed]",
            "text/plain": [
              "<Figure size 1080x576 with 1 Axes>"
            ]
          },
          "metadata": {
            "tags": []
          }
        }
      ]
    },
    {
      "cell_type": "code",
      "metadata": {
        "colab": {
          "base_uri": "https://localhost:8080/",
          "height": 508
        },
        "id": "5j53VsgNSs4j",
        "outputId": "c24ed0a0-4f84-49e6-ea43-53ed87f4907b"
      },
      "source": [
        "n = 6\n",
        "qs = np.linspace(5000, 10000, n)\n",
        "a_coefs = np.linspace(1.01, 2.0, n)\n",
        "m_coefs = np.linspace(1.01, 2.0, n)\n",
        "plt.figure(figsize=(15,8))\n",
        "for i in range(n):\n",
        "  plt.scatter(times, well_rate, color='red')\n",
        "  plt.xlabel('Time (Days)')\n",
        "  plt.title('WellX')\n",
        "  q_new4 = duong(times, m_coefs[i], a_coefs[i], qs[i])\n",
        "  plt.plot(times, q_new4, label=f'm={m_coefs[i]}, a={a_coefs[i]}, rate={qs[i]}')\n",
        "plt.legend()\n",
        "plt.show()"
      ],
      "execution_count": 85,
      "outputs": [
        {
          "output_type": "display_data",
          "data": {
            "image/png": "[encoded data removed]",
            "text/plain": [
              "<Figure size 1080x576 with 1 Axes>"
            ]
          },
          "metadata": {
            "tags": []
          }
        }
      ]
    },
    {
      "cell_type": "code",
      "metadata": {
        "colab": {
          "base_uri": "https://localhost:8080/"
        },
        "id": "-wlTxY3hUrqu",
        "outputId": "33ecd68c-e930-4587-e929-1723bd5651f5"
      },
      "source": [
        "qs = np.linspace(5000, 10000, n)\n",
        "qs\n"
      ],
      "execution_count": 80,
      "outputs": [
        {
          "output_type": "execute_result",
          "data": {
            "text/plain": [
              "array([ 5000.,  6000.,  7000.,  8000.,  9000., 10000.])"
            ]
          },
          "metadata": {
            "tags": []
          },
          "execution_count": 80
        }
      ]
    },
    {
      "cell_type": "code",
      "metadata": {
        "id": "EJGvaCvgV_Bt"
      },
      "source": [
        ""
      ],
      "execution_count": null,
      "outputs": []
    },
    {
      "cell_type": "markdown",
      "metadata": {
        "id": "d6yOtRmLTuEA"
      },
      "source": [
        "C# example (Tends to have poor readibility\n",
        "\n",
        "xfunction function(a, b, c)\n",
        "\n",
        "      {\n",
        "\n",
        "         a = b*c}"
      ]
    },
    {
      "cell_type": "markdown",
      "metadata": {
        "id": "QPa__mEVWbp7"
      },
      "source": [
        "### Try to fit the coefficients using scipy.optimize"
      ]
    },
    {
      "cell_type": "code",
      "metadata": {
        "id": "tR3H5RElTtOu"
      },
      "source": [
        "#curve_fit"
      ],
      "execution_count": null,
      "outputs": []
    }
  ]
}